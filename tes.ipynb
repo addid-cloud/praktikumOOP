{
 "cells": [
  {
   "cell_type": "code",
   "execution_count": null,
   "metadata": {},
   "outputs": [
    {
     "name": "stdout",
     "output_type": "stream",
     "text": [
      "Result of A * B:\n",
      " [[ 42  54  65  53]\n",
      " [ 70  98 108  82]\n",
      " [ 98 127 146 103]]\n",
      "Result of B * A:\n",
      " [[ 38  85  90]\n",
      " [ 49 119 117]\n",
      " [ 58 129 132]\n",
      " [ 45  92  87]]\n"
     ]
    }
   ],
   "source": [
    "    import numpy as np\n",
    "    A = np.matrix(\n",
    "        [[1, 5, 3],\n",
    "        [4, 6, 6],\n",
    "        [3, 8, 9]])\n",
    "    B = np.matrix(\n",
    "        [[1, 5, 3, 4],\n",
    "        [4, 5, 7, 8],\n",
    "        [7, 8, 9, 3]])\n",
    "    C = np.matrix(\n",
    "        [[1],\n",
    "        [4],\n",
    "        [3]])\n",
    "    D = np.matrix(\n",
    "        [[1, 5, 3]])\n",
    "    result_AB = np.matmul(A, B)  \n",
    "    result_BA = np.matmul(B.T, A) \n",
    "    print(\"Result of A * B:\\n\", result_AB)\n",
    "    print(\"Result of B * A:\\n\", result_BA)\n"
   ]
  }
 ],
 "metadata": {
  "kernelspec": {
   "display_name": "Python 3",
   "language": "python",
   "name": "python3"
  },
  "language_info": {
   "codemirror_mode": {
    "name": "ipython",
    "version": 3
   },
   "file_extension": ".py",
   "mimetype": "text/x-python",
   "name": "python",
   "nbconvert_exporter": "python",
   "pygments_lexer": "ipython3",
   "version": "3.12.4"
  }
 },
 "nbformat": 4,
 "nbformat_minor": 2
}
